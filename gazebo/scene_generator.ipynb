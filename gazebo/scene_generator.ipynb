{
 "cells": [
  {
   "cell_type": "code",
   "execution_count": 35,
   "metadata": {},
   "outputs": [
    {
     "data": {
      "text/plain": [
       "\"\\nto generate pickle data that contains information of obstacles\\nfor future usage in the planning\\nstructure:\\n{'poses': {env_name: {obs_name: {'pose': [], 'orientation': [], 'z_offset': 0}}}}\\n\\nsave to gazebo/env/environment_data/*.pkl\\n\""
      ]
     },
     "execution_count": 35,
     "metadata": {},
     "output_type": "execute_result"
    }
   ],
   "source": [
    "\"\"\"\n",
    "to generate pickle data that contains information of obstacles\n",
    "for future usage in the planning\n",
    "structure:\n",
    "{'poses': {env_name: {obs_name: {'pose': [], 'orientation': [], 'z_offset': 0}}}}\n",
    "\n",
    "save to gazebo/env/environment_data/*.pkl\n",
    "\"\"\"\n"
   ]
  },
  {
   "cell_type": "code",
   "execution_count": 36,
   "metadata": {},
   "outputs": [],
   "source": [
    "import sys\n",
    "sys.path.append('../')\n",
    "from gazebo.tools.gazebo_scene_editor import *\n",
    "\n"
   ]
  },
  {
   "cell_type": "code",
   "execution_count": null,
   "metadata": {},
   "outputs": [],
   "source": []
  },
  {
   "cell_type": "code",
   "execution_count": 37,
   "metadata": {},
   "outputs": [],
   "source": [
    "gsm = GazeboSceneModifier()\n",
    "envs = {}"
   ]
  },
  {
   "cell_type": "code",
   "execution_count": 38,
   "metadata": {},
   "outputs": [],
   "source": [
    "def spawn_object(obs_name, model_name, pose, orientation=[0.,0.,0.], z_offset=0.):\n",
    "    gsm.delete_object(obs_name)\n",
    "    gsm.spawn_object(obs_name, \\\n",
    "                     '/home/yinglong/Documents/MotionPlanning/baxter/Baxter_with_sensor/gazebo/env/gazebo_models/%s/model.sdf' % (model_name), \\\n",
    "                     pose=pose, orientation=orientation,z_offset=z_offset)\n",
    "def delete_all_objects(env):\n",
    "    for obs_name in env.keys():\n",
    "        gsm.delete_object(obs_name)"
   ]
  },
  {
   "cell_type": "code",
   "execution_count": 48,
   "metadata": {},
   "outputs": [],
   "source": [
    "# choose 8 positions, and randomly select 5\n",
    "import numpy as np\n",
    "poses = [np.random.rand(8)*0.6-0.3, np.random.rand(8)*1.9-0.95, np.zeros(8)+0.8]\n",
    "poses = np.array(poses).T\n",
    "for i in range(len(poses)):\n",
    "    obs_name = 'box%d' % (i)\n",
    "    env[obs_name] = {}\n",
    "    spawn_object(obs_name, 'block', poses[i])"
   ]
  },
  {
   "cell_type": "code",
   "execution_count": null,
   "metadata": {},
   "outputs": [],
   "source": []
  },
  {
   "cell_type": "code",
   "execution_count": 42,
   "metadata": {},
   "outputs": [],
   "source": [
    "env_name = 'env1'\n",
    "env = {}\n",
    "\n",
    "\n",
    "#### box 1\n",
    "pose = [0,0,0.8]\n",
    "orientation = [0,0,0]\n",
    "z_offset = 0.\n",
    "obs_name = 'box1'\n",
    "model_name = 'block'\n",
    "obs = {}\n",
    "obs['model_name'] = model_name\n",
    "obs['pose'] = pose\n",
    "obs['orientation'] = orientation\n",
    "obs['z_offset'] = z_offset\n",
    "env[obs_name] = obs\n",
    "envs[env_name] = env\n",
    "\n",
    "spawn_object(obs_name, model_name, pose, orientation, z_offset)\n",
    "\n"
   ]
  },
  {
   "cell_type": "code",
   "execution_count": 45,
   "metadata": {},
   "outputs": [],
   "source": [
    "#### box 2\n",
    "#### table x range: -0.3~0.3, y range: -0.95~0.95, z: 0.3815\n",
    "pose = [-0.3,0,0.8]\n",
    "orientation = [0,0,0]\n",
    "z_offset = 0.\n",
    "obs_name = 'box2'\n",
    "model_name = 'block'\n",
    "obs = {}\n",
    "obs['model_name'] = model_name\n",
    "obs['pose'] = pose\n",
    "obs['orientation'] = orientation\n",
    "obs['z_offset'] = z_offset\n",
    "env[obs_name] = obs\n",
    "envs[env_name] = env\n",
    "\n",
    "spawn_object(obs_name, model_name, pose, orientation, z_offset)\n"
   ]
  },
  {
   "cell_type": "code",
   "execution_count": 46,
   "metadata": {},
   "outputs": [],
   "source": [
    "delete_all_objects(env)"
   ]
  }
 ],
 "metadata": {
  "kernelspec": {
   "display_name": "Python 2",
   "language": "python",
   "name": "python2"
  },
  "language_info": {
   "codemirror_mode": {
    "name": "ipython",
    "version": 2
   },
   "file_extension": ".py",
   "mimetype": "text/x-python",
   "name": "python",
   "nbconvert_exporter": "python",
   "pygments_lexer": "ipython2",
   "version": "2.7.12"
  }
 },
 "nbformat": 4,
 "nbformat_minor": 2
}
